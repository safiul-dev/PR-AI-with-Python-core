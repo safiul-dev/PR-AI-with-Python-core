{
  "nbformat": 4,
  "nbformat_minor": 0,
  "metadata": {
    "colab": {
      "name": "Copy of Plagiarism ditector.ipynb",
      "private_outputs": true,
      "provenance": [],
      "authorship_tag": "ABX9TyMrBFa55FRghgfzJ0rcp8Tn",
      "include_colab_link": true
    },
    "kernelspec": {
      "name": "python3",
      "display_name": "Python 3"
    },
    "language_info": {
      "name": "python"
    }
  },
  "cells": [
    {
      "cell_type": "markdown",
      "metadata": {
        "id": "view-in-github",
        "colab_type": "text"
      },
      "source": [
        "<a href=\"https://colab.research.google.com/github/Anis5221/PR-AI-with-Python-core/blob/main/Copy_of_Plagiarism_ditector.ipynb\" target=\"_parent\"><img src=\"https://colab.research.google.com/assets/colab-badge.svg\" alt=\"Open In Colab\"/></a>"
      ]
    },
    {
      "cell_type": "code",
      "metadata": {
        "id": "bTu9H6VBzuck"
      },
      "source": [
        "print(\"hello world!\")"
      ],
      "execution_count": null,
      "outputs": []
    },
    {
      "cell_type": "code",
      "metadata": {
        "id": "W8ylSSow0O-L"
      },
      "source": [
        "\n",
        "from PyPDF2 import PdfFileReader\n",
        " \n",
        " \n",
        "def text_extractor(path):\n",
        "    with open(path, 'rb+', encoding = 'utf-8') as f:\n",
        "        pdf = PdfFileReader(f)\n",
        " \n",
        "        # get the first page\n",
        "        page = pdf.getPage(0)\n",
        "      #  print(page)\n",
        "       #     print('Page type: {}'.format(str(type(page))))\n",
        " \n",
        "        text = page.extractText()\n",
        "        print(text)\n",
        " \n",
        " \n",
        "if __name__ == '__main__':\n",
        "    path = 'bangla.pdf'\n",
        "    text_extractor(path)"
      ],
      "execution_count": null,
      "outputs": []
    },
    {
      "cell_type": "code",
      "metadata": {
        "id": "ogBjNG9i5TAE"
      },
      "source": [
        "with open(\"bangla.pdf\",'r',encoding = 'utf-8') as f: \n",
        "    print(f.read())"
      ],
      "execution_count": null,
      "outputs": []
    }
  ]
}
