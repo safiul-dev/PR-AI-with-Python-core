{
  "nbformat": 4,
  "nbformat_minor": 0,
  "metadata": {
    "colab": {
      "name": "file-read/right-with-rpc-game-also-some-stupid.ipynb",
      "provenance": [],
      "collapsed_sections": [],
      "authorship_tag": "ABX9TyPVkLxhAt0DGRaGFdAgkJXd",
      "include_colab_link": true
    },
    "kernelspec": {
      "name": "python3",
      "display_name": "Python 3"
    },
    "language_info": {
      "name": "python"
    }
  },
  "cells": [
    {
      "cell_type": "markdown",
      "metadata": {
        "id": "view-in-github",
        "colab_type": "text"
      },
      "source": [
        "<a href=\"https://colab.research.google.com/github/Anis5221/PR-AI-with-Python-core/blob/main/ClassAssignment2_file_read_write.ipynb\" target=\"_parent\"><img src=\"https://colab.research.google.com/assets/colab-badge.svg\" alt=\"Open In Colab\"/></a>"
      ]
    },
    {
      "cell_type": "code",
      "metadata": {
        "colab": {
          "base_uri": "https://localhost:8080/"
        },
        "id": "_u5P4bvlMARp",
        "outputId": "d693cfb5-55dc-4dbe-edce-d5d0773bf1de"
      },
      "source": [
        "import numpy as np\n",
        "import matplotlib.pyplot as plt\n",
        "import pandas as pd\n",
        "import re\n",
        "file = open(\"doc.txt\", \"r\")\n",
        "text = file.read()\n",
        "finalText = text.translate ({ord(c): \" \" for c in \"!@#$%^&*()[]{};:,./<>?\\|`~-=_+\"})\n",
        "count = 0\n",
        "srWrod = input()\n",
        "result = finalText.split(\" \")\n",
        "for word in result:\n",
        "  if word.lower() == srWrod.lower():\n",
        "    count +=1;\n",
        "print(count)"
      ],
      "execution_count": null,
      "outputs": [
        {
          "output_type": "stream",
          "text": [
            "python\n",
            "3\n"
          ],
          "name": "stdout"
        }
      ]
    },
    {
      "cell_type": "code",
      "metadata": {
        "colab": {
          "base_uri": "https://localhost:8080/"
        },
        "id": "XAU7QQz9w4e4",
        "outputId": "b8f3ca44-e49d-4f06-8f82-3543fd823a36"
      },
      "source": [
        "def displayList(list):\n",
        "  for i in list.keys():\n",
        "    print(i)\n",
        "    for j in list.get(i):\n",
        "      print(\"    -  \"+j)\n",
        "\n",
        "\n",
        "dicList = {\n",
        "    'Lecture':[\n",
        "               \"Palash Roy\",\n",
        "               'Fahim Arefin',\n",
        "              'Shahin Alam Shuvo',\n",
        "              'Saklain Zaman',\n",
        "    ],\n",
        "    'Sr. Lecturer':[\n",
        "                    'Ahmed Iqbal Pritom',\n",
        "                    'MR. SHIHABUZZAMAN'\n",
        "    ]\n",
        "}\n",
        "\n",
        "displayList(dicList)\n",
        "\n",
        "\n",
        "  "
      ],
      "execution_count": 27,
      "outputs": [
        {
          "output_type": "stream",
          "text": [
            "Lecture\n",
            "    -  Palash Roy\n",
            "    -  Fahim Arefin\n",
            "    -  Shahin Alam Shuvo\n",
            "    -  Saklain Zaman\n",
            "Sr. Lecturer\n",
            "    -  Ahmed Iqbal Pritom\n",
            "    -  MR. SHIHABUZZAMAN\n"
          ],
          "name": "stdout"
        }
      ]
    },
    {
      "cell_type": "code",
      "metadata": {
        "colab": {
          "base_uri": "https://localhost:8080/"
        },
        "id": "x4NeOLRx79G0",
        "outputId": "f6f47e3b-8a45-4a20-942c-b5e6d046aee8"
      },
      "source": [
        "class Stack:\n",
        "  def __init__(self):\n",
        "    self.listItem = []\n",
        "    self.back = None\n",
        "  \n",
        "  def push(self, val):\n",
        "    self.listItem.append(val)\n",
        "\n",
        "  def pop(self):\n",
        "    self.back = self.listItem.pop()\n",
        "    return self.back\n",
        "\n",
        "  def peek(self):\n",
        "    return self.back\n",
        "  \n",
        "  def isEmpty(self):\n",
        "    return len(self.listItem) == 0\n",
        "\n",
        "\n",
        "myStack = Stack()\n",
        "myStack.push(1)\n",
        "myStack.push(2)\n",
        "myStack.push(3)\n",
        "myStack.push(4)\n",
        "print(myStack.listItem)\n",
        "myStack.pop()\n",
        "print(myStack.listItem)\n",
        "myStack.peek()\n",
        "print(myStack.listItem)\n",
        "myStack.isEmpty()"
      ],
      "execution_count": 39,
      "outputs": [
        {
          "output_type": "stream",
          "text": [
            "[1, 2, 3, 4]\n",
            "[1, 2, 3]\n",
            "[1, 2, 3]\n"
          ],
          "name": "stdout"
        },
        {
          "output_type": "execute_result",
          "data": {
            "text/plain": [
              "False"
            ]
          },
          "metadata": {
            "tags": []
          },
          "execution_count": 39
        }
      ]
    },
    {
      "cell_type": "code",
      "metadata": {
        "colab": {
          "base_uri": "https://localhost:8080/"
        },
        "id": "JuSydOu8BEFo",
        "outputId": "498fc785-744a-4c99-8da8-e2eecaa6f45a"
      },
      "source": [
        "import random\n",
        "\n",
        "def rockPaperScissor(userInput):\n",
        "  possible_actions = [\"rock\", \"paper\", \"scissors\"]\n",
        "  computer_action = random.choice(possible_actions)\n",
        "\n",
        "  if userInput == computer_action:\n",
        "      print(\"There is a draw \"+ computer_action)\n",
        "  elif userInput == \"rock\":\n",
        "      if computer_action == \"scissors\":\n",
        "          print(\"Well done. The computer chose \"+ computer_action +\" and failed\")\n",
        "      else:\n",
        "          print(\"Sorry, but the computer chose \"+ computer_action)\n",
        "  elif userInput == \"paper\":\n",
        "      if computer_action == \"rock\":\n",
        "          print(\"Well done. The computer chose \"+ computer_action +\" and failed\")\n",
        "      else:\n",
        "          print(\"Sorry, but the computer chose \"+ computer_action)\n",
        "  elif userInput == \"scissors\":\n",
        "      if computer_action == \"paper\":\n",
        "          print(\"Well done. The computer chose \"+ computer_action +\" and failed\")\n",
        "      else:\n",
        "          print(\"Sorry, but the computer chose \"+ computer_action)\n",
        "\n",
        "while True:\n",
        "\n",
        "  userInput = input()\n",
        "  if userInput == '!exit' or userInput != 'rock' and userInput!='paper' and userInput !='scissors':\n",
        "    print('Bye!')\n",
        "    break\n",
        "  rockPaperScissor(userInput)"
      ],
      "execution_count": 63,
      "outputs": [
        {
          "output_type": "stream",
          "text": [
            "paper\n",
            "There is a draw paper\n",
            "scissors\n",
            "Sorry, but the computer chose rock\n",
            "rock\n",
            "Sorry, but the computer chose paper\n",
            "rock\n",
            "There is a draw rock\n",
            "rock\n",
            "Well done. The computer chose scissors and failed\n",
            "exit\n",
            "Bye!\n"
          ],
          "name": "stdout"
        }
      ]
    },
    {
      "cell_type": "code",
      "metadata": {
        "colab": {
          "base_uri": "https://localhost:8080/",
          "height": 318
        },
        "id": "Eom4YwB1bHV1",
        "outputId": "5c220fe3-24ba-4933-f307-569202a85638"
      },
      "source": [
        "import pandas as pd\n",
        "import matplotlib.pyplot as p\n",
        "font = {'family': 'serif',\n",
        "        'color':  'Green',\n",
        "        'weight': 'bold',\n",
        "        'size': 24,\n",
        "        }\n",
        "file = pd.read_csv(\"Doc.csv\")\n",
        "x0 = file.iloc[0,[1,2,3,4,5]].values\n",
        "x1 = file.iloc[1,[1,2,3,4,5]].values\n",
        "x2 = file.iloc[2,[1,2,3,4,5]].values\n",
        "x3 = file.iloc[3,[1,2,3,4,5]].values\n",
        "x4 = file.iloc[4,[1,2,3,4,5]].values\n",
        "y = file.iloc[:,0].values\n",
        "z = [\"2016\",\"2017\",\"2018\",\"2019\",\"2020\"]\n",
        "\n",
        "p.plot(z, x0, color=\"blue\", label=y[0], marker=\"*\")\n",
        "p.plot(z, x1,  color=\"green\", label=y[1], marker=\"+\")\n",
        "p.plot(z, x2,  color=\"red\", label=y[2], marker=\"*\")\n",
        "p.plot(z, x3,  color=\"gray\", label=y[3], marker=\"+\")\n",
        "p.plot(z, x4,  color=\"black\", label=y[4], marker=\"*\")\n",
        "p.xlabel('Year',fontdict=font)\n",
        "p.ylabel('Percentage Rate %',fontdict=font)\n",
        "p.title(\"Mobile Brand Market Share\",fontdict=font)\n",
        "p.legend()\n",
        "p.show()"
      ],
      "execution_count": null,
      "outputs": [
        {
          "output_type": "display_data",
          "data": {
            "image/png": "[encoded data removed]",
            "text/plain": [
              "<Figure size 432x288 with 1 Axes>"
            ]
          },
          "metadata": {
            "tags": [],
            "needs_background": "light"
          }
        }
      ]
    }
  ]
}
