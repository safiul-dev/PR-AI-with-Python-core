{
  "nbformat": 4,
  "nbformat_minor": 0,
  "metadata": {
    "colab": {
      "private_outputs": true,
      "provenance": [],
      "authorship_tag": "ABX9TyNJpLkijYHKxPSK6ocMc4ZD",
      "include_colab_link": true
    },
    "kernelspec": {
      "name": "python3",
      "display_name": "Python 3"
    },
    "language_info": {
      "name": "python"
    }
  },
  "cells": [
    {
      "cell_type": "markdown",
      "metadata": {
        "id": "view-in-github",
        "colab_type": "text"
      },
      "source": [
        "<a href=\"https://colab.research.google.com/github/safiul-dev/PR-AI-with-Python-core/blob/main/letcode_problem_solveing.ipynb\" target=\"_parent\"><img src=\"https://colab.research.google.com/assets/colab-badge.svg\" alt=\"Open In Colab\"/></a>"
      ]
    },
    {
      "cell_type": "code",
      "execution_count": null,
      "metadata": {
        "id": "w2AB2ktanr-B"
      },
      "outputs": [],
      "source": [
        "array1 = [1,2]\n",
        "array2 = [3,4]\n",
        "final_array = array1 + array2\n",
        "final_array.sort()\n",
        "\n",
        "full_length = len(final_array)\n",
        "mid = 0\n",
        "median = None\n",
        "if full_length % 2 != 0:\n",
        "  mid = full_length / 2\n",
        "  median = final_array[mid]\n",
        "else:\n",
        "  mid = int(full_length / 2)\n",
        "  median = float((final_array[mid-1] + final_array[mid]) / 2)\n",
        "\n",
        "print(median)"
      ]
    },
    {
      "cell_type": "code",
      "source": [
        "def myAtoi(s: str) -> int:\n",
        "\n",
        "    digits = [x for x in range(10)]\n",
        "    result = ''\n",
        "    isNegetive = False\n",
        "\n",
        "    if isNegetive == True:\n",
        "      result = \"-\" + result\n",
        "    # if result < 2**32 or result > 2**32 -1:\n",
        "\n",
        "    return result\n",
        "print(myAtoi(\" -hello 21545world\"))"
      ],
      "metadata": {
        "id": "hUeTOJYjX0hM"
      },
      "execution_count": null,
      "outputs": []
    },
    {
      "cell_type": "code",
      "source": [
        "def reverse(x: int) -> int:\n",
        "    if x < -2**31 or x > (2**31) -1:\n",
        "      return 0\n",
        "    strNum = str(x)\n",
        "    isNegetive = False\n",
        "    if \"-\" == strNum[0]:\n",
        "        isNegetive = True\n",
        "        strNum = strNum[1:]\n",
        "    res = strNum[::-1]\n",
        "    if isNegetive == True:\n",
        "        res = '-' + res\n",
        "    \n",
        "    return int(res)\n",
        "\n",
        "print(reverse(1534236469))\n",
        "\n",
        "  "
      ],
      "metadata": {
        "id": "HdU0ui30_jLt"
      },
      "execution_count": null,
      "outputs": []
    },
    {
      "cell_type": "code",
      "source": [
        "def fib(n, memo=[]):\n",
        "  if memo:\n",
        "    return memo[n]\n",
        "  if n < 2:\n",
        "    return n\n",
        "  memo.append({n:fib(n+1, memo) * fib(n + 2, memo)})\n",
        "  return memo[n]\n",
        "\n",
        "print(fib(7))"
      ],
      "metadata": {
        "id": "JvWMRUlAjKBS"
      },
      "execution_count": null,
      "outputs": []
    },
    {
      "cell_type": "code",
      "source": [
        "def binarySearch(arr, n):\n",
        "  arr.sort()\n",
        "  low = 0\n",
        "  high = len(arr) - 1\n",
        "  mid = 0\n",
        "  while low <= high:\n",
        "    mid = int((low + high) / 2)\n",
        "    if arr[mid] < n:\n",
        "      low = mid + 1\n",
        "    elif arr[mid] > n:\n",
        "      low = mid - 1\n",
        "    else: \n",
        "      return str(mid)\n",
        "  return -1\n",
        "\n",
        "\n",
        "\n",
        "print(binarySearch([4,5,6,7,8], 7))"
      ],
      "metadata": {
        "id": "TVZ-6XEiuk_h"
      },
      "execution_count": null,
      "outputs": []
    },
    {
      "cell_type": "code",
      "source": [
        "def preOrder(root):\n",
        "    #Write your code here\n",
        "    if root != None:\n",
        "        print(root, end=\" \")\n",
        "    \n",
        "        preOrder(root.left)\n",
        "        preOrder(root.right)"
      ],
      "metadata": {
        "id": "t6B4eT-YgMR1"
      },
      "execution_count": null,
      "outputs": []
    },
    {
      "cell_type": "code",
      "source": [
        "def decodeHuff(root, s):\n",
        "    #Enter Your Code Here\n",
        "    \n",
        "    temp = root\n",
        "    result = []\n",
        "    \n",
        "    for char in s:\n",
        "        \n",
        "        if char is \"0\":\n",
        "            temp = temp.left\n",
        "        else:\n",
        "            temp = temp.right\n",
        "        \n",
        "        if temp.left is None and temp.right is None:\n",
        "            result.append(temp.data)\n",
        "            temp = root\n",
        "        \n",
        "    print(\"\".join(result))"
      ],
      "metadata": {
        "id": "xpIJyidZgTu0"
      },
      "execution_count": null,
      "outputs": []
    },
    {
      "cell_type": "code",
      "source": [
        "def noPrefix(words):\n",
        "    # Write your code here\n",
        "    arr = []\n",
        "    for s in words:\n",
        "        p = bisect.bisect_right(arr, s)\n",
        "\n",
        "        if p >= 1 and s.startswith(arr[p - 1]):\n",
        "            print(\"BAD SET\")\n",
        "            print(s)\n",
        "            return\n",
        "\n",
        "        if p < len(arr) and arr[p].startswith(s):\n",
        "            print(\"BAD SET\")\n",
        "            print(s)\n",
        "            return\n",
        "\n",
        "        arr.insert(p, s)\n",
        "\n",
        "    print(\"GOOD SET\")"
      ],
      "metadata": {
        "id": "-PtIgD6wgYL1"
      },
      "execution_count": null,
      "outputs": []
    },
    {
      "cell_type": "code",
      "source": [
        "def decimalPlace(value):\n",
        "    print(\"%.6f\" % value)\n",
        "    \n",
        "def plusMinus(arr):\n",
        "    # Write your code here\n",
        "    negetive_count = 0\n",
        "    positive_count = 0\n",
        "    zero_count = 0\n",
        "    for i in arr:\n",
        "        if i > 0:\n",
        "            positive_count = positive_count + 1\n",
        "        elif i < 0:\n",
        "            negetive_count = negetive_count + 1\n",
        "        else:\n",
        "            zero_count = zero_count + 1\n",
        "    \n",
        "    decimalPlace(positive_count/len(arr))\n",
        "    decimalPlace(negetive_count/len(arr))\n",
        "    decimalPlace(zero_count/len(arr))"
      ],
      "metadata": {
        "id": "RJCKeFThgleP"
      },
      "execution_count": null,
      "outputs": []
    },
    {
      "cell_type": "code",
      "source": [
        "def miniMaxSum(arr):\n",
        "    # Write your code here\n",
        "    sum = []\n",
        "    for i in range(len(arr)):\n",
        "        e_sum = 0\n",
        "        for j in range(len(arr)):\n",
        "            if j != i:\n",
        "                e_sum = e_sum + arr[j]\n",
        "        \n",
        "        sum.append(e_sum)\n",
        "    \n",
        "    print(min(sum), max(sum))\n",
        "        "
      ],
      "metadata": {
        "id": "_PT91r9pgxEP"
      },
      "execution_count": null,
      "outputs": []
    },
    {
      "cell_type": "code",
      "source": [
        "def timeConversion(s):\n",
        "    # Write your code here\n",
        "    if s[-2:] == \"AM\" and s[:2] == \"12\":\n",
        "        return \"00\" + s[2:-2]\n",
        "        \n",
        "    elif s[-2:] == \"AM\":\n",
        "        return s[:-2]\n",
        "     \n",
        "    elif s[-2:] == \"PM\" and s[:2] == \"12\":\n",
        "        return s[:-2]\n",
        "         \n",
        "    else:\n",
        "         \n",
        "        return str(int(s[:2]) + 12) + s[2:8]"
      ],
      "metadata": {
        "id": "VUO0umWwg2bc"
      },
      "execution_count": null,
      "outputs": []
    },
    {
      "cell_type": "code",
      "source": [
        "def lonelyinteger(a):\n",
        "    # Write your code here\n",
        "    unique_array = []\n",
        "    for i in a:\n",
        "        counter = 0\n",
        "        for j in a:\n",
        "            if i == j:\n",
        "                counter = counter + 1\n",
        "        unique_array.append([counter, i])\n",
        "    result = 0\n",
        "    for i in unique_array:\n",
        "        if i[0] == 1:\n",
        "            result = i[1]\n",
        "    return result"
      ],
      "metadata": {
        "id": "jdxHEGeLg8l8"
      },
      "execution_count": null,
      "outputs": []
    },
    {
      "cell_type": "code",
      "source": [
        "def arraySum (arr):\n",
        "    sum = 0\n",
        "    for i in arr:\n",
        "        sum = sum + i\n",
        "    return sum\n",
        "def diagonalDifference(arr):\n",
        "    # Write your code here\n",
        "    \n",
        "    first_value = arraySum([arr[i][i] for i in range(len(arr))])\n",
        "    second_value = arraySum([arr[i][len(arr)-1-i] for i in range(len(arr))])\n",
        "    result = 0\n",
        "    if first_value > second_value:\n",
        "        result = first_value - second_value\n",
        "    else:\n",
        "        result = second_value - first_value\n",
        "        \n",
        "    return result"
      ],
      "metadata": {
        "id": "mTe6iPnOhCCH"
      },
      "execution_count": null,
      "outputs": []
    },
    {
      "cell_type": "code",
      "source": [
        "def countingSort(arr):\n",
        "    arr.sort()\n",
        "    result = []\n",
        "    sorted_tuple = tuple(arr)\n",
        "    for i in range(100):\n",
        "        value = sorted_tuple.count(i)\n",
        "        result.append(value)\n",
        "        \n",
        "    return result"
      ],
      "metadata": {
        "id": "6lTI5bvUhSvq"
      },
      "execution_count": null,
      "outputs": []
    },
    {
      "cell_type": "code",
      "source": [
        "def findZigZagSequence(a, n):\n",
        "    a.sort()\n",
        "    mid = int((n + 1)/2) - 1\n",
        "    a[mid], a[n-1] = a[n-1], a[mid]\n",
        "\n",
        "    st = mid + 1\n",
        "    ed = n - 2\n",
        "    while(st <= ed):\n",
        "        a[st], a[ed] = a[ed], a[st]\n",
        "        st = st + 1\n",
        "        ed = ed - 1\n",
        "\n",
        "    for i in range (n):\n",
        "        if i == n-1:\n",
        "            print(a[i])\n",
        "        else:\n",
        "            print(a[i], end = ' ')\n",
        "    return"
      ],
      "metadata": {
        "id": "6uVuVawthgeh"
      },
      "execution_count": null,
      "outputs": []
    },
    {
      "cell_type": "code",
      "source": [
        "def towerBreakers(n, m):\n",
        "    # Write your code here\n",
        "    if m == 1 or n % 2 == 0:\n",
        "        return 2\n",
        "    else:\n",
        "        return 1"
      ],
      "metadata": {
        "id": "XlrVn9MRhk1k"
      },
      "execution_count": null,
      "outputs": []
    },
    {
      "cell_type": "code",
      "source": [
        "def caesarCipher(s, k):\n",
        "    # Write your code here\n",
        "    temp = []\n",
        "    \n",
        "    for i in s:\n",
        "        temp.append(ord(i))\n",
        "    \n",
        "    for i in range(len(temp)):\n",
        "        \n",
        "        if 65 <= temp[i] <= 90:\n",
        "            temp[i] = (65 + (temp[i] - 65 + k) % 26)\n",
        "            \n",
        "        elif 97 <= temp[i] <= 122:\n",
        "            temp[i] = (97 + (temp[i] - 97 + k) % 26)\n",
        "    \n",
        "    return \"\".join(map(chr, temp))"
      ],
      "metadata": {
        "id": "bR9VYnRrhqH9"
      },
      "execution_count": null,
      "outputs": []
    },
    {
      "cell_type": "code",
      "source": [
        "def gridChallenge(grid):\n",
        "    # Write your code here\n",
        "    grid = [list(row) for row in grid]\n",
        "    \n",
        "    grid_len = len(grid)\n",
        "    str_len = len(grid[0])\n",
        "    for i in range(grid_len):\n",
        "        grid[i].sort()\n",
        "        \n",
        "    for j in range(str_len):\n",
        "        for i in range(1, grid_len):\n",
        "            if not grid[i-1][j] <= grid[i][j]:\n",
        "                return \"NO\"\n",
        "    return \"YES\""
      ],
      "metadata": {
        "id": "mfdW8E80hzc2"
      },
      "execution_count": null,
      "outputs": []
    },
    {
      "cell_type": "code",
      "source": [
        "def superDigit(n, k):\n",
        "    # Write your code here\n",
        "    return 1 + (k * sum(int(x) for x in n) - 1) % 9"
      ],
      "metadata": {
        "id": "159Klz21h54t"
      },
      "execution_count": null,
      "outputs": []
    },
    {
      "cell_type": "code",
      "source": [
        "def minimumBribes(q):\n",
        "    # Write your  here\n",
        "    q = [i-1 for i in q]  # set queue to start at 0\n",
        "    bribes = 0\n",
        "    \n",
        "    for i, o in enumerate(q):\n",
        "        cur = i \n",
        "        if o - cur > 2:\n",
        "            print(\"Too chaotic\")\n",
        "            return\n",
        "        for k in q[max(o - 1, 0):i]:\n",
        "            if k > o:\n",
        "                bribes += 1\n",
        "\n",
        "    print(bribes)"
      ],
      "metadata": {
        "id": "hPeJRoa-iL8o"
      },
      "execution_count": null,
      "outputs": []
    },
    {
      "cell_type": "code",
      "source": [
        "def mergeLists(head1, head2):\n",
        "    if head1 == None:\n",
        "        return head2\n",
        "    if head2 == None:\n",
        "        return head1\n",
        "    if head1.data < head2.data:\n",
        "        start = head1\n",
        "        (this, other) = (head1, head2)\n",
        "    else:\n",
        "        start = head2\n",
        "        (this, other) = (head2, head1)\n",
        "    while other != None:\n",
        "        if this.next != None and this.next.data < other.data:\n",
        "            this = this.next\n",
        "        else:\n",
        "            (this.next, this) = (other, this.next)\n",
        "            (this, other) = (other, this)\n",
        "    return start"
      ],
      "metadata": {
        "id": "7S1ZiZvPiQDv"
      },
      "execution_count": null,
      "outputs": []
    },
    {
      "cell_type": "code",
      "source": [
        "class MyQueue(object):\n",
        "\n",
        "  def __init__(self):\n",
        "    self.d1 = []\n",
        "    self.d2 = []\n",
        "  \n",
        "  def peek(self):\n",
        "    if not self.d2:\n",
        "      while self.d1:\n",
        "        self.d2.append(self.d1.pop())\n",
        "    return self.d2[-1]\n",
        "  \n",
        "  def pop(self):\n",
        "    if not self.d2:\n",
        "      while self.d1:\n",
        "        self.d2.append(self.d1.pop())\n",
        "\n",
        "    return self.d2.pop()\n",
        "\n",
        "  def put(self, value):\n",
        "    self.d1.append(value)\n",
        "  \n",
        "queue = MyQueue()\n",
        "t = int(input())\n",
        "for line in range(t):\n",
        "    values = map(int, input().split())\n",
        "    values = list(values)\n",
        "    if values[0] == 1:\n",
        "        queue.put(values[0])        \n",
        "    elif values[0] == 2:\n",
        "        queue.pop()\n",
        "    else:\n",
        "        print(queue.peek())"
      ],
      "metadata": {
        "id": "e41Xq27WkDMP"
      },
      "execution_count": null,
      "outputs": []
    },
    {
      "cell_type": "code",
      "source": [
        "def isBalanced(s):\n",
        "    # Write your code here\n",
        "    stack = []\n",
        "    pairs = {\"{\": \"}\", \"[\": \"]\", \"(\" : \")\"}\n",
        "    for i in s:\n",
        "        if not stack:\n",
        "            stack.append(i)\n",
        "        elif i == pairs.get(stack[-1]):\n",
        "            stack.pop()\n",
        "        else:\n",
        "            stack.append(i)\n",
        "    return \"YES\" if not stack else \"NO\""
      ],
      "metadata": {
        "id": "owudDpmGmq4A"
      },
      "execution_count": null,
      "outputs": []
    },
    {
      "cell_type": "code",
      "source": [
        "no_ops = int(input())\n",
        "ops = []\n",
        "s = []\n",
        "for i in range(no_ops):\n",
        "    one_op = input().split(' ')\n",
        "    ops.append(one_op)\n",
        "    \n",
        "from copy import copy\n",
        "history = []\n",
        "for op in ops:\n",
        "    if op[0] == '1':\n",
        "        to_append = op[1]\n",
        "        history.append(copy(s))\n",
        "        s.extend(to_append)\n",
        "    elif op[0] == '2':\n",
        "        k = int(op[1])\n",
        "        history.append(copy(s))\n",
        "        del s[-k:]\n",
        "    elif op[0] == '3':\n",
        "        k = int(op[1])\n",
        "        print(s[k-1])\n",
        "    elif op[0] == '4':\n",
        "        s = history.pop()"
      ],
      "metadata": {
        "id": "1Pb4o79Imxkc"
      },
      "execution_count": null,
      "outputs": []
    },
    {
      "cell_type": "code",
      "source": [
        "import datetime\n",
        "def legoBlocks(n, m):\n",
        "    A = 1000000000+7\n",
        "    r = [0]*(m+1)\n",
        "    a = [0]*(m+1)\n",
        "    print(datetime.datetime.now())\n",
        "\n",
        "    a[0] = 1\n",
        "    for j in range(1, m+1):\n",
        "        a[j] += a[j-1] if j-1>=0 else 0\n",
        "        a[j] += a[j-2] if j-2>=0 else 0\n",
        "        a[j] += a[j-3] if j-3>=0 else 0\n",
        "        a[j] += a[j-4] if j-4>=0 else 0\n",
        "    print(datetime.datetime.now())    \n",
        "    for j in range(1, m+1):\n",
        "        a[j] = a[j] % A\n",
        "        a[j] = a[j] ** n\n",
        "        a[j] = a[j] % A\n",
        "    print(datetime.datetime.now())\n",
        "    \n",
        "    r[1] = 1\n",
        "    for j in range(2, m+1):\n",
        "        r[j] = a[j]\n",
        "        for k in range(1, j):\n",
        "            r[j] -= r[k]*a[j-k]\n",
        "        r[j] = r[j] % A\n",
        "    print(datetime.datetime.now())\n",
        "    return r[m]%A"
      ],
      "metadata": {
        "id": "D5PK8eVtnFAh"
      },
      "execution_count": null,
      "outputs": []
    },
    {
      "cell_type": "code",
      "source": [
        "from heapq import heapify, heappush, heappop\n",
        "def cookies(k, A):\n",
        "    # Write your code here\n",
        "    heapify(A)\n",
        "    result = 0\n",
        "    \n",
        "    while True:\n",
        "        \n",
        "        x = heappop(A)\n",
        "        if x >= k:\n",
        "            return result\n",
        "        \n",
        "        if A:\n",
        "            y = heappop(A)\n",
        "            s = x + 2 * y\n",
        "            heappush(A, s)\n",
        "            result += 1\n",
        "        else:\n",
        "            return -1"
      ],
      "metadata": {
        "id": "lGX7s-IinOdg"
      },
      "execution_count": null,
      "outputs": []
    },
    {
      "cell_type": "code",
      "source": [
        "from collections import deque\n",
        "def bfs(n, m, edges, s):\n",
        "\n",
        "  graph = [[] for i in range(n+1)]\n",
        "\n",
        "  for x, y in edges:\n",
        "    graph[x].append(y)\n",
        "    graph[y].append(x)\n",
        "  \n",
        "  visited = [False] * (n + 1)\n",
        "  distances = [-1] * (n + 1)\n",
        "  q = deque([(s,0)])\n",
        "  distances[s] = 0\n",
        "  visited[s] = True\n",
        "\n",
        "  while q:\n",
        "    u, w = q.popleft()\n",
        "    for v in graph[u]:\n",
        "      if visited[v] == False:\n",
        "        distance[v] = w + 6\n",
        "        visited[v] = True\n",
        "        q.append((v, w + 6))\n",
        "  \n",
        "  distances.remove(0)\n",
        "  return distances[1:]\n"
      ],
      "metadata": {
        "id": "T1vhC0YBwnJ8"
      },
      "execution_count": null,
      "outputs": []
    }
  ]
}